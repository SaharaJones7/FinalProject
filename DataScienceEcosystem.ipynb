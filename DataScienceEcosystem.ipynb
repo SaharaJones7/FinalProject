{
 "cells": [
  {
   "cell_type": "markdown",
   "id": "08a1df5e-3c82-4a1f-a10a-455fe649c790",
   "metadata": {
    "tags": []
   },
   "source": [
    "<H1> Data Science Tools and Ecosystem"
   ]
  },
  {
   "cell_type": "markdown",
   "id": "55ffa487-82fa-4f14-85ec-d999c0124a43",
   "metadata": {
    "tags": []
   },
   "source": [
    "In this notebook, Data Science Tools and Ecosystem are summarized."
   ]
  },
  {
   "cell_type": "markdown",
   "id": "537646a5-e97f-4725-9cd3-65bb338226bf",
   "metadata": {},
   "source": [
    "|**Objectives**|\n",
    "|----------|\n",
    "- Languages that Data Scientists use\n",
    "- Commonly used libraries used by Data Scientists\n",
    "- evaluating arithmetic expressions "
   ]
  },
  {
   "cell_type": "markdown",
   "id": "c13250cb-4fb4-4753-ba0e-fe7f45cb3fe5",
   "metadata": {},
   "source": [
    "Some of the popular languages that Data Scientists use are:\n",
    "1. Python 2. SQL 3. JavaScript "
   ]
  },
  {
   "cell_type": "markdown",
   "id": "9ec872e5-506e-4dd3-8ba9-e124eec99af9",
   "metadata": {},
   "source": [
    "Some of the commonly used libraries used by Data Scientists include:\n",
    "1. NumPy 2. SciPy 3. Pandas"
   ]
  },
  {
   "cell_type": "markdown",
   "id": "b3e8c400-5340-41d8-966a-bac0dd21374c",
   "metadata": {},
   "source": [
    "|Data Science Tools|\n",
    "|------------------|\n",
    "RStudio\n",
    "Apache Spark\n",
    "TensorFlow"
   ]
  },
  {
   "cell_type": "markdown",
   "id": "60ede18a-f55c-4934-a1eb-fb3b943da756",
   "metadata": {},
   "source": [
    "<H3> Below are a few examples of evaluating arithmetic expressions in Python"
   ]
  },
  {
   "cell_type": "markdown",
   "id": "b18c2e0c-f73d-4eec-bfcf-99240653b78f",
   "metadata": {},
   "source": [
    "This a simple arithmetic expression to mutiply then add integers"
   ]
  },
  {
   "cell_type": "code",
   "execution_count": 12,
   "id": "5308c584-fee2-4634-8729-49dc611d1f4e",
   "metadata": {
    "tags": []
   },
   "outputs": [
    {
     "data": {
      "text/plain": [
       "17"
      ]
     },
     "execution_count": 12,
     "metadata": {},
     "output_type": "execute_result"
    }
   ],
   "source": [
    "(3*4)+5"
   ]
  },
  {
   "cell_type": "markdown",
   "id": "3fd381e5-06d5-435a-937c-d5929d355cfc",
   "metadata": {
    "tags": []
   },
   "source": [
    "This will convert 200 minutes to hours by diving by 60"
   ]
  },
  {
   "cell_type": "code",
   "execution_count": 18,
   "id": "ea95a306-dc59-4cba-88aa-ec1e537c852e",
   "metadata": {
    "tags": []
   },
   "outputs": [
    {
     "data": {
      "text/plain": [
       "3.3333333333333335"
      ]
     },
     "execution_count": 18,
     "metadata": {},
     "output_type": "execute_result"
    }
   ],
   "source": [
    "200/ 60"
   ]
  },
  {
   "cell_type": "markdown",
   "id": "1eaed753-4744-4cbb-811e-c3509688ea78",
   "metadata": {
    "tags": []
   },
   "source": [
    "<H2> Author: Sahara Ammons"
   ]
  }
 ],
 "metadata": {
  "kernelspec": {
   "display_name": "Python",
   "language": "python",
   "name": "conda-env-python-py"
  },
  "language_info": {
   "codemirror_mode": {
    "name": "ipython",
    "version": 3
   },
   "file_extension": ".py",
   "mimetype": "text/x-python",
   "name": "python",
   "nbconvert_exporter": "python",
   "pygments_lexer": "ipython3",
   "version": "3.7.12"
  }
 },
 "nbformat": 4,
 "nbformat_minor": 5
}
